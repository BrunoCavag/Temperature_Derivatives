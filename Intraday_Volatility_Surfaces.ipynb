{
 "cells": [
  {
   "cell_type": "markdown",
   "metadata": {},
   "source": [
    "# Intraday Option \n",
    "\n",
    "In this notebook I will investigate how you can use ThetaData’s API to retreive historical options data for end-of-day, and both intraday trades and quotes. Creating volatility surfaces use an interpolation method (B-Splines) to compare surfaces between the morning (10am) implied volalitity and afternoon (2pm) implied volatility surfaces."
   ]
  },
  {
   "cell_type": "code",
   "execution_count": null,
   "metadata": {},
   "outputs": [],
   "source": [
    "import os\n",
    "from dotenv import load_dotenv, dotenv_values\n",
    "import time\n",
    "import pickle\n",
    "import numpy as np\n",
    "import pandas as pd\n",
    "import concurrent.futures as cf\n",
    "import matplotlib.pyplot as plt\n",
    "\n",
    "from datetime import timedelta, datetime, date\n",
    "from thetadata import ThetaClient, OptionReqType, OptionRight, DateRange, DataType\n",
    "\n",
    "config = dotenv_values(\".env\") \n",
    "\n",
    "your_username = config['THETA_USER']\n",
    "your_password = config['THETA_PASS']"
   ]
  },
  {
   "cell_type": "code",
   "execution_count": null,
   "metadata": {},
   "outputs": [],
   "source": [
    "your_password"
   ]
  },
  {
   "cell_type": "code",
   "execution_count": null,
   "metadata": {},
   "outputs": [],
   "source": [
    "def get_expirations(root_ticker:str, username:str, password:str) -> pd.DataFrame:\n",
    "    \"\"\"Request expirations from a particular options root\"\"\"\n",
    "    # Create a ThetaClient\n",
    "    client = ThetaClient(username=username, passwd=password, timeout=15)\n",
    "    # Connect to the Terminal\n",
    "    with client.connect():\n",
    "        # Make the request\n",
    "        data = client.get_expirations(\n",
    "            root=root_ticker,\n",
    "        )\n",
    "    return data"
   ]
  },
  {
   "cell_type": "code",
   "execution_count": null,
   "metadata": {},
   "outputs": [],
   "source": [
    "root_ticker = 'SPY'\n",
    "expirations = get_expirations(root_ticker, username=your_username, password= your_password)"
   ]
  },
  {
   "cell_type": "code",
   "execution_count": null,
   "metadata": {},
   "outputs": [],
   "source": [
    "exp_dates = expirations[expirations > time_now + timedelta(days=7)]\n",
    "exp_dates"
   ]
  },
  {
   "cell_type": "markdown",
   "metadata": {},
   "source": [
    "## Find combined Strikes across expiry dates\n",
    "\n",
    "Using set intersection of all strikes across SPY Options contracts."
   ]
  },
  {
   "cell_type": "code",
   "execution_count": null,
   "metadata": {},
   "outputs": [],
   "source": [
    "combined_strikes = [list(strikes) for strikes in all_strikes.values()]\n",
    "vol_surface_strikes = set.intersection(*map(set,combined_strikes))\n",
    "vol_surface_strikes\n",
    "\n",
    "with open('vol_surface_strikes.pkl', 'wb') as f:\n",
    "    pickle.dump(vol_surface_strikes, f)\n",
    "\n",
    "with open('vol_surface_strikes.pkl', 'rb') as f:\n",
    "    vol_surface_strikes = pickle.load(f)\n",
    "\n",
    "vol_surface_strikes = list(vol_surface_strikes)\n",
    "vol_surface_strikes.sort()\n",
    "vol_surface_strikes"
   ]
  },
  {
   "cell_type": "code",
   "execution_count": null,
   "metadata": {},
   "outputs": [],
   "source": [
    "def end_of_day(root_ticker, exp_date, strike, from_date, to_date, username:str, password:str) -> pd.DataFrame:\n",
    "    \"\"\"Request end-of-day data\"\"\"\n",
    "    # Create a ThetaClient\n",
    "    client = ThetaClient(username=username, passwd=password, timeout=10)\n",
    "\n",
    "    # Connect to the Terminal\n",
    "    with client.connect():\n",
    "\n",
    "        # Make the request\n",
    "        data = client.get_hist_option(\n",
    "            req=OptionReqType.EOD,\n",
    "            root=root_ticker,\n",
    "            exp=exp_date,\n",
    "            strike=strike,\n",
    "            right=OptionRight.CALL,\n",
    "            date_range=DateRange(from_date, to_date),\n",
    "        )\n",
    "\n",
    "    return data\n",
    "\n",
    "root_ticker = 'SPY'\n",
    "from_date = date(2022,8,26)\n",
    "to_date = date(2022,8,31)\n",
    "exp_date = exp_dates.tolist()[0]\n",
    "strike = 420000\n",
    "data = end_of_day(root_ticker, exp_date, int(int(strike)/1000), from_date, to_date, username=your_username, password= your_password)\n",
    "data"
   ]
  },
  {
   "cell_type": "code",
   "execution_count": null,
   "metadata": {},
   "outputs": [],
   "source": [
    "# Make the request\n",
    "def trades(root_ticker, exp_date, strike, from_date, to_date, username:str, password:str) -> pd.DataFrame:\n",
    "    \"\"\"Request trade level data\"\"\"\n",
    "    # Create a ThetaClient\n",
    "    client = ThetaClient(username=username, passwd=password, timeout=10)\n",
    "\n",
    "    # Connect to the Terminal\n",
    "    with client.connect():\n",
    "\n",
    "        data = client.get_hist_option(\n",
    "            req=OptionReqType.TRADE,\n",
    "            root=root_ticker,\n",
    "            exp=exp_date,\n",
    "            strike=strike,\n",
    "            right=OptionRight.CALL,\n",
    "            date_range=DateRange(from_date, to_date),\n",
    "            progress_bar=False,\n",
    "        )\n",
    "\n",
    "    return data\n",
    "\n",
    "\n",
    "root_ticker = 'SPY'\n",
    "exp_date = date(2022,9,16)\n",
    "from_date = date(2022,8,31)\n",
    "to_date = date(2022,8,31)\n",
    "strike = 420000\n",
    "data = trades(root_ticker, exp_date, int(int(strike)/1000), from_date, to_date,username=your_username, password= your_password)\n",
    "data"
   ]
  },
  {
   "cell_type": "code",
   "execution_count": null,
   "metadata": {},
   "outputs": [],
   "source": [
    "data['DATETIME'] = data[DataType.DATE] + pd.TimedeltaIndex(data[DataType.MS_OF_DAY], unit='ms')\n",
    "plt.figure(figsize=(12,6))\n",
    "plt.title('Traded Price of 16-Sep SPY Call Options \\n Trading day: 31-Aug ') \n",
    "plt.xlabel('Datetime')\n",
    "plt.ylabel('Traded Price $')\n",
    "plt.plot(data['DATETIME'],data[DataType.PRICE])"
   ]
  },
  {
   "cell_type": "code",
   "execution_count": null,
   "metadata": {},
   "outputs": [],
   "source": [
    "# Make the request\n",
    "def quotes(root_ticker, exp_date, strike, from_date, to_date, interval_size=0, username:str, password:str) -> pd.DataFrame:\n",
    "    \"\"\"Request quotes both bid/ask options data\"\"\"\n",
    "    # Create a ThetaClient\n",
    "    client = ThetaClient(username=your_username, passwd=your_password, timeout=10)\n",
    "\n",
    "    # Connect to the Terminal\n",
    "    with client.connect():\n",
    "\n",
    "        data = client.get_hist_option(\n",
    "            req=OptionReqType.QUOTE,\n",
    "            root=root_ticker,\n",
    "            exp=exp_date,\n",
    "            strike=strike,\n",
    "            right=OptionRight.CALL,\n",
    "            date_range=DateRange(from_date, to_date),\n",
    "            progress_bar=False,\n",
    "            interval_size=interval_size\n",
    "        )\n",
    "\n",
    "    return data\n",
    "\n",
    "\n",
    "root_ticker = 'SPY'\n",
    "exp_date = date(2022,9,16)\n",
    "from_date = date(2022,8,31)\n",
    "to_date = date(2022,8,31)\n",
    "strike = 420000\n",
    "data = quotes(root_ticker, exp_date, int(int(strike)/1000), from_date, to_date,username=your_username, password= your_password)\n",
    "data"
   ]
  },
  {
   "cell_type": "code",
   "execution_count": null,
   "metadata": {},
   "outputs": [],
   "source": [
    "interval_size = 5*60000\n",
    "data = quotes(root_ticker, exp_date, int(int(strike)/1000), from_date, to_date, interval_size)\n",
    "dt_date_ms = data[DataType.DATE] + pd.TimedeltaIndex(data[DataType.MS_OF_DAY], unit='ms')\n",
    "data.insert(loc=0, column='DATETIME', value=dt_date_ms)\n",
    "data\n",
    "\n",
    "morning_int = 120\n",
    "afternoon_int = 168\n",
    "morning = data['DATETIME'][morning_int]\n",
    "afternoon = data['DATETIME'][afternoon_int]\n",
    "print(\"Morning Interval\", morning, \"\\nAfternoon Interval\", afternoon)\n",
    "\n",
    "data.iloc[afternoon_int]"
   ]
  },
  {
   "cell_type": "markdown",
   "metadata": {},
   "source": [
    "## Calculate Weighted Mid Price (Micro-Price)\n",
    "\n",
    "Calculate the [weighted mid price](https://quant.stackexchange.com/questions/50651/how-to-understand-micro-price-aka-weighted-mid-price) (micro-price) for each row within our quotes dataframe.\n",
    "\n",
    "$$ P_{m} = P_{a} V_{b}/(V_{a}+V_{b}) + P_{b} V_{a}/(V_{a}+V_{b})$$"
   ]
  },
  {
   "cell_type": "code",
   "execution_count": null,
   "metadata": {},
   "outputs": [],
   "source": [
    "def weighted_mid_price(row):\n",
    "    try:\n",
    "        V_mid = row[DataType.ASK_SIZE] + row[DataType.BID_SIZE]\n",
    "        x_a = row[DataType.ASK_SIZE]/V_mid\n",
    "        x_b = 1 - x_a\n",
    "        return row[DataType.ASK]*x_a + row[DataType.BID]*x_b\n",
    "    except:\n",
    "        return np.nan\n",
    "\n",
    "midprices = data.apply(weighted_mid_price, axis=1)\n",
    "midprices"
   ]
  },
  {
   "cell_type": "code",
   "execution_count": null,
   "metadata": {},
   "outputs": [],
   "source": [
    "# Make the request\n",
    "def get_morn_noon_quotes(root_ticker, exp_date, strike, from_date, to_date, interval_size=0, username:str, password:str) -> pd.DataFrame:\n",
    "    \"\"\"Returns morning and afternoon weighter mid prices at 1000 and 1400 respectively\"\"\"\n",
    "    # Create a ThetaClient\n",
    "    client = ThetaClient(username=username, passwd=password, timeout=10)\n",
    "\n",
    "    # Connect to the Terminal\n",
    "    with client.connect():\n",
    "\n",
    "        data = client.get_hist_option(\n",
    "            req=OptionReqType.QUOTE,\n",
    "            root=root_ticker,\n",
    "            exp=exp_date,\n",
    "            strike=strike,\n",
    "            right=OptionRight.CALL,\n",
    "            date_range=DateRange(from_date, to_date),\n",
    "            progress_bar=False,\n",
    "            interval_size=interval_size\n",
    "        )\n",
    "        \n",
    "    morning_int = 120\n",
    "    afternoon_int = 168\n",
    "    \n",
    "    midprices = data.apply(weighted_mid_price, axis=1)\n",
    "\n",
    "    return midprices[morning_int], midprices[afternoon_int]"
   ]
  },
  {
   "cell_type": "markdown",
   "metadata": {},
   "source": [
    "## Multi-threading Responses to ThetaData API\n",
    "\n",
    "Now we explore using current.futures module to perform multi-threading and processing of responses using ThetaData API.\n",
    "\n",
    "1. We need to create a function that we can call with our specific parameters of interest\n",
    "2. We need to know the maximium number of threads our computer has"
   ]
  },
  {
   "cell_type": "code",
   "execution_count": null,
   "metadata": {},
   "outputs": [],
   "source": [
    "def retrieve_eod_data(root_ticker, exp_date, strike, from_date, to_date, interval_size, username:str, password:str):\n",
    "    try:\n",
    "        morning, afternoon = get_morn_noon_quotes(root_ticker, exp_date, int(int(strike)/1000), from_date, to_date, interval_size,\n",
    "                                                  username=username, password= password)\n",
    "        print(\"  \", strike,\" data\")\n",
    "        datas[exp_date][strike] = [morning, afternoon]\n",
    "    except:\n",
    "        datas[exp_date][strike] = [np.nan, np.nan]\n",
    "        print(\"  \", strike,\" no data\")\n",
    "\n",
    "\n",
    "root_ticker = 'SPY'\n",
    "from_date = date(2022,8,31)\n",
    "to_date = date(2022,8,31)\n",
    "interval_size = 5*60000\n",
    "\n",
    "datas = {}\n",
    "for exp_date in exp_dates:\n",
    "    print(exp_date)\n",
    "    start = time.time()\n",
    "    datas[exp_date] = {}\n",
    "    executor = cf.ThreadPoolExecutor(8)\n",
    "    futures = [executor.submit(retrieve_eod_data, root_ticker, exp_date, strike, from_date, to_date, interval_size,\n",
    "                               username=your_username, password= your_password) \n",
    "               for strike in vol_surface_strikes]\n",
    "    cf.wait(futures)\n",
    "    end = time.time()\n",
    "    print('  time taken {:.2f} s'.format(end-start))"
   ]
  },
  {
   "cell_type": "code",
   "execution_count": null,
   "metadata": {},
   "outputs": [],
   "source": [
    "# Save data\n",
    "\n",
    "with open('datas.pkl', 'wb') as f:\n",
    "    pickle.dump(datas, f)"
   ]
  },
  {
   "cell_type": "code",
   "execution_count": null,
   "metadata": {},
   "outputs": [],
   "source": [
    "# Read data\n",
    "\n",
    "with open('datas.pkl', 'rb') as f:\n",
    "    datas = pickle.load(f)\n",
    "\n",
    "price_morn_arr = []\n",
    "price_arvo_arr = []\n",
    "for exp_date, prices in datas.items():\n",
    "    morn_arr = [price[0] for strike, price in sorted(prices.items())]\n",
    "    arvo_arr = [price[1] for strike, price in sorted(prices.items())]\n",
    "    # strikes = [strike for strike, price in sorted(prices.items())]\n",
    "    price_morn_arr.append(morn_arr)\n",
    "    price_arvo_arr.append(arvo_arr)\n",
    "    \n",
    "price_morn_arr = np.array(price_morn_arr)\n",
    "price_arvo_arr = np.array(price_arvo_arr)\n",
    "\n",
    "np.shape(price_morn_arr), price_morn_arr[0,:], np.shape(price_arvo_arr), price_arvo_arr[0,:]"
   ]
  },
  {
   "cell_type": "markdown",
   "metadata": {},
   "source": [
    "## Create DataFrame for Option Maturity, Strike and Prices"
   ]
  },
  {
   "cell_type": "code",
   "execution_count": null,
   "metadata": {},
   "outputs": [],
   "source": [
    "from scipy.interpolate import griddata\n",
    "from py_vollib_vectorized import vectorized_implied_volatility as implied_vol\n",
    "\n",
    "maturity = np.array([(exp_date-time_now).days/365.25 for exp_date in exp_dates])\n",
    "strikes = np.array(vol_surface_strikes)/1000\n",
    "volSurfaceMorn = pd.DataFrame(price_morn_arr, index = maturity, columns = strikes)\n",
    "volSurfaceArvo = pd.DataFrame(price_arvo_arr, index = maturity, columns = strikes)\n",
    "volSurfaceLongMorn = volSurfaceMorn.melt(ignore_index=False).reset_index()\n",
    "volSurfaceLongArvo = volSurfaceArvo.melt(ignore_index=False).reset_index()\n",
    "volSurfaceLongMorn.columns = ['maturity', 'strike', 'price']\n",
    "volSurfaceLongArvo.columns = ['maturity', 'strike', 'price']\n",
    "s,m = np.meshgrid(strikes, maturity)\n",
    "np.shape(s) == np.shape(m) == np.shape(price_morn_arr)\n",
    "np.shape(m), m[:,0]"
   ]
  },
  {
   "cell_type": "markdown",
   "metadata": {},
   "source": [
    "## Interpolation of Price Surface\n",
    "\n",
    "Using scipy griddata we can interpolate our multivariate price array and return a mesh for plotting."
   ]
  },
  {
   "cell_type": "code",
   "execution_count": null,
   "metadata": {},
   "outputs": [],
   "source": [
    "strikes2 = np.linspace(strikes[0],strikes[-1],20)\n",
    "maturity2 = np.linspace(maturity[0],maturity[-1],20)\n",
    "s2,m2 = np.meshgrid(strikes2, maturity2)\n",
    "\n",
    "\n",
    "price_intpol_morn = griddata((s[~np.isnan(price_morn_arr)], m[~np.isnan(price_morn_arr)]),\n",
    "                                price_morn_arr[~np.isnan(price_morn_arr)], (s2,m2), method='linear')\n",
    "\n",
    "price_intpol_arvo = griddata((s[~np.isnan(price_arvo_arr)], m[~np.isnan(price_arvo_arr)]),\n",
    "                                price_arvo_arr[~np.isnan(price_arvo_arr)], (s2,m2), method='linear')\n",
    "\n",
    "priceSurfaceMorn = pd.DataFrame(price_intpol_morn, index = maturity2, columns = strikes2)\n",
    "priceSurfaceArvo = pd.DataFrame(price_intpol_arvo, index = maturity2, columns = strikes2)\n",
    "priceSurfaceMorn = priceSurfaceMorn.melt(ignore_index=False).reset_index()\n",
    "priceSurfaceArvo = priceSurfaceArvo.melt(ignore_index=False).reset_index()\n",
    "priceSurfaceMorn.columns = ['maturity', 'strike', 'interpolation']\n",
    "priceSurfaceArvo.columns = ['maturity', 'strike', 'interpolation']"
   ]
  },
  {
   "cell_type": "markdown",
   "metadata": {},
   "source": [
    "## Using Plotly to graph 3D surface\n",
    "First only looking at the Morning Price Surface"
   ]
  },
  {
   "cell_type": "code",
   "execution_count": null,
   "metadata": {},
   "outputs": [],
   "source": [
    "import plotly.graph_objects as go\n",
    "from plotly.graph_objs import Surface\n",
    "from plotly.offline import iplot, init_notebook_mode\n",
    "\n",
    "init_notebook_mode()\n",
    "fig = go.Figure(data=[go.Mesh3d(x=priceSurfaceMorn.maturity, y=priceSurfaceMorn.strike, z=priceSurfaceMorn.interpolation, color='mediumblue', opacity=0.55)])\n",
    "fig.add_scatter3d(x=volSurfaceLongMorn.maturity, y=volSurfaceLongMorn.strike, z=volSurfaceLongMorn.price, mode='markers')\n",
    "fig.update_layout(\n",
    "    title_text='10:00 SPY Quoted Market Prices (Markers) vs 2d Interpolation (Mesh)',\n",
    "    scene = dict(xaxis_title='TIME (Years)',\n",
    "                    yaxis_title='STRIKES ($)',\n",
    "                    zaxis_title='SPY OPTION PRICE ($)'),\n",
    "    height=800,\n",
    "    width=800\n",
    ")\n",
    "fig.show()"
   ]
  },
  {
   "cell_type": "markdown",
   "metadata": {},
   "source": [
    "### Plotting both the Morning and Afternoon Price Surfaces"
   ]
  },
  {
   "cell_type": "code",
   "execution_count": null,
   "metadata": {},
   "outputs": [],
   "source": [
    "import plotly.graph_objects as go\n",
    "from plotly.graph_objs import Surface\n",
    "from plotly.offline import iplot, init_notebook_mode\n",
    "init_notebook_mode()\n",
    "fig = go.Figure(data=[go.Mesh3d(x=priceSurfaceMorn.maturity, y=priceSurfaceMorn.strike, z=priceSurfaceMorn.interpolation, color='mediumblue', opacity=0.55),\n",
    "                         go.Mesh3d(x=priceSurfaceArvo.maturity, y=priceSurfaceArvo.strike, z=priceSurfaceArvo.interpolation, color='red', opacity=0.55)])\n",
    "# fig.add_scatter3d(x=volSurfaceLongMorn.maturity, y=volSurfaceLongMorn.strike, z=volSurfaceLongMorn.price, mode='markers')\n",
    "fig.update_layout(\n",
    "    title_text='10:00 vs 14:00 SPY Quoted Market Prices (Markers) vs 2d Interpolation (Mesh)',\n",
    "    scene = dict(xaxis_title='TIME (Years)',\n",
    "                    yaxis_title='STRIKES ($)',\n",
    "                    zaxis_title='SPY OPTION PRICE ($)'),\n",
    "    height=800,\n",
    "    width=800\n",
    ")\n",
    "fig.show()"
   ]
  },
  {
   "cell_type": "markdown",
   "metadata": {},
   "source": [
    "### Calculation of Volatility Surface\n",
    "Volatility array calculation from price_arr numpy array.\n",
    "Create clean DataFrame for vol surface.\n",
    "\n"
   ]
  },
  {
   "cell_type": "code",
   "execution_count": null,
   "metadata": {},
   "outputs": [],
   "source": [
    "price_morn = 399.67\n",
    "price_arvo = 396.75\n",
    "\n",
    "s,m = np.meshgrid(strikes, maturity)\n",
    "volatility_morn = implied_vol(price_morn_arr, K=s, t=m, S=price_morn, r=0.01, flag='c', q=0, return_as='numpy', on_error='ignore')\n",
    "volatility_arvo = implied_vol(price_arvo_arr, K=s, t=m, S=price_arvo, r=0.01, flag='c', q=0, return_as='numpy', on_error='ignore')\n",
    "\n",
    "vol_morn_arr = np.copy(volatility_morn)*100\n",
    "vol_arvo_arr = np.copy(volatility_arvo)*100\n",
    "\n",
    "vol_morn_arr[(vol_morn_arr < 1) | (vol_morn_arr > 120)] = np.nan \n",
    "vol_arvo_arr[(vol_arvo_arr < 1) | (vol_arvo_arr > 120)] = np.nan \n",
    "\n",
    "volSurfaceLongMorn['volatility'] = vol_morn_arr\n",
    "volSurfaceLongArvo['volatility'] = vol_arvo_arr\n",
    "\n",
    "volSurfaceLongMorn = volSurfaceLongMorn[~( (np.isnan(volSurfaceLongMorn['price'])) | (volSurfaceLongMorn['volatility']) > 60)]\n",
    "volSurfaceLongArvo = volSurfaceLongArvo[~( (np.isnan(volSurfaceLongArvo['price'])) | (volSurfaceLongArvo['volatility']) > 60)]\n",
    "\n",
    "vol_morn_arr = vol_morn_arr.reshape(np.shape(price_morn_arr))\n",
    "vol_arvo_arr = vol_arvo_arr.reshape(np.shape(price_arvo_arr))\n",
    "\n",
    "vol_morn_arr[price_morn_arr == np.nan] = np.nan \n",
    "vol_arvo_arr[price_arvo_arr == np.nan] = np.nan \n",
    "\n",
    "vol_morn_arr[:,0], vol_arvo_arr[:,0]"
   ]
  },
  {
   "cell_type": "markdown",
   "metadata": {},
   "source": [
    "## Interpolation using Bivariate Spline\n",
    "Interpolation of volatility array using scipy’s SmoothBivariateSpline."
   ]
  },
  {
   "cell_type": "code",
   "execution_count": null,
   "metadata": {},
   "outputs": [],
   "source": [
    "import scipy.interpolate as interpolate\n",
    "\n",
    "s,m = s.flatten(),m.flatten()\n",
    "vol_morn_arr,price_morn_arr = vol_morn_arr.flatten(), price_morn_arr.flatten()\n",
    "vol_arvo_arr,price_arvo_arr = vol_arvo_arr.flatten(), price_arvo_arr.flatten()\n",
    "\n",
    "mask_morn = np.isnan(vol_morn_arr)\n",
    "mask_arvo = np.isnan(vol_arvo_arr)\n",
    "\n",
    "sm,mm,vol_morn_arr,price_morn_arr = s[~mask_morn],m[~mask_morn],vol_morn_arr[~mask_morn], price_morn_arr[~mask_morn]\n",
    "sa,ma,vol_arvo_arr,price_arvo_arr = s[~mask_arvo],m[~mask_arvo],vol_arvo_arr[~mask_arvo], price_arvo_arr[~mask_arvo]\n",
    "\n",
    "kx, ky = 4, 4  # spline order\n",
    "assert len(m) >= (kx+1)*(ky+1)\n",
    "\n",
    "wm=np.abs(price_morn_arr - price_morn)/price_morn * np.sqrt(mm)\n",
    "tck_morn = interpolate.SmoothBivariateSpline(mm, sm, vol_morn_arr, kx=kx, ky=ky, w=wm, bbox=[0, 5, 250, 650])\n",
    "\n",
    "wa=np.abs(price_arvo_arr - price_arvo)/price_arvo * np.sqrt(ma)\n",
    "tck_arvo = interpolate.SmoothBivariateSpline(ma, sa, vol_arvo_arr, kx=kx, ky=ky, w=wa, bbox=[0, 5, 250, 650])\n",
    "\n",
    "strikes2 = np.linspace(strikes[0],strikes[-1],20)\n",
    "maturity2 = np.linspace(maturity[0],maturity[-1],20)\n",
    "s2,m2 = np.meshgrid(strikes2, maturity2)\n",
    "\n",
    "vol_intpol_morn = tck_morn.ev(m2,s2)\n",
    "vol_intpol_arvo = tck_arvo.ev(m2,s2)\n",
    "\n",
    "# vol_intpol"
   ]
  },
  {
   "cell_type": "markdown",
   "metadata": {},
   "source": [
    "### Morning Volatility Surface Interpolation Displayed\n",
    "Create DataFrame for plotting."
   ]
  },
  {
   "cell_type": "code",
   "execution_count": null,
   "metadata": {},
   "outputs": [],
   "source": [
    "volSurfaceMorn2 = pd.DataFrame(vol_intpol_morn, index = maturity2, columns = strikes2)\n",
    "volSurfaceLongMorn2 = volSurfaceMorn2.melt(ignore_index=False).reset_index()\n",
    "volSurfaceLongMorn2.columns = ['maturity', 'strike', 'interpolation']\n",
    "\n",
    "fig = go.Figure(data=[go.Mesh3d(x=volSurfaceLongMorn2.maturity, y=volSurfaceLongMorn2.strike, z=volSurfaceLongMorn2.interpolation, color='mediumblue', opacity=0.55)])\n",
    "fig.add_scatter3d(x=volSurfaceLongMorn.maturity, y=volSurfaceLongMorn.strike, z=volSurfaceLongMorn.volatility, mode='markers')\n",
    "fig.update_layout(\n",
    "    title_text='Market Implied Volatility (Markers) vs 2d Interpolation (Mesh)',\n",
    "    scene = dict(xaxis_title='TIME (Years)',\n",
    "                    yaxis_title='STRIKES ($)',\n",
    "                    zaxis_title='SPY IMPLIED VOL (%)'),\n",
    "    height=800,\n",
    "    width=800\n",
    ")\n",
    "fig.show()"
   ]
  },
  {
   "cell_type": "markdown",
   "metadata": {},
   "source": [
    "### Morning vs Afternoon Vol Surfaces"
   ]
  },
  {
   "cell_type": "code",
   "execution_count": null,
   "metadata": {},
   "outputs": [],
   "source": [
    "volSurfaceArvo2 = pd.DataFrame(vol_intpol_arvo, index = maturity2, columns = strikes2)\n",
    "volSurfaceLongArvo2 = volSurfaceArvo2.melt(ignore_index=False).reset_index()\n",
    "volSurfaceLongArvo2.columns = ['maturity', 'strike', 'interpolation']\n",
    "\n",
    "fig = go.Figure(data=[go.Mesh3d(x=volSurfaceLongMorn2.maturity, y=volSurfaceLongMorn2.strike, z=volSurfaceLongMorn2.interpolation, color='mediumblue', opacity=0.55, name='Morning'),\n",
    "                     go.Mesh3d(x=volSurfaceLongArvo2.maturity, y=volSurfaceLongArvo2.strike, z=volSurfaceLongArvo2.interpolation, color='red', opacity=0.55, name='Afternoon')])\n",
    "# fig.add_scatter3d(x=volSurfaceLongArvo.maturity, y=volSurfaceLongArvo.strike, z=volSurfaceLongArvo.volatility, mode='markers')\n",
    "\n",
    "fig.update_layout(\n",
    "    title_text='SPY Intraday Vol Surfaces 10:00 vs 14:00',\n",
    "    scene = dict(xaxis_title='TIME (Years)',\n",
    "                    yaxis_title='STRIKES ($)',\n",
    "                    zaxis_title='SPY IMPLIED VOL (%)'),\n",
    "    height=800,\n",
    "    width=800,\n",
    "    showlegend=True,\n",
    ")\n",
    "fig.show()"
   ]
  },
  {
   "cell_type": "markdown",
   "metadata": {},
   "source": [
    "## Morning vs Afternoon Vol Surfaces"
   ]
  },
  {
   "cell_type": "code",
   "execution_count": null,
   "metadata": {},
   "outputs": [],
   "source": [
    "volSurfaceArvo2 = pd.DataFrame(vol_intpol_arvo, index = maturity2, columns = strikes2)\n",
    "volSurfaceLongArvo2 = volSurfaceArvo2.melt(ignore_index=False).reset_index()\n",
    "volSurfaceLongArvo2.columns = ['maturity', 'strike', 'interpolation']\n",
    "\n",
    "fig = go.Figure(data=[go.Mesh3d(x=volSurfaceLongMorn2.maturity, y=volSurfaceLongMorn2.strike, z=volSurfaceLongMorn2.interpolation, color='mediumblue', opacity=0.55, name='Morning'),\n",
    "                     go.Mesh3d(x=volSurfaceLongArvo2.maturity, y=volSurfaceLongArvo2.strike, z=volSurfaceLongArvo2.interpolation, color='red', opacity=0.55, name='Afternoon')])\n",
    "# fig.add_scatter3d(x=volSurfaceLongArvo.maturity, y=volSurfaceLongArvo.strike, z=volSurfaceLongArvo.volatility, mode='markers')\n",
    "\n",
    "fig.update_layout(\n",
    "    title_text='SPY Intraday Vol Surfaces 10:00 vs 14:00',\n",
    "    scene = dict(xaxis_title='TIME (Years)',\n",
    "                    yaxis_title='STRIKES ($)',\n",
    "                    zaxis_title='SPY IMPLIED VOL (%)'),\n",
    "    height=800,\n",
    "    width=800,\n",
    "    showlegend=True,\n",
    ")\n",
    "fig.show()"
   ]
  }
 ],
 "metadata": {
  "kernelspec": {
   "display_name": "Python 3.8.5 ('temdev': venv)",
   "language": "python",
   "name": "python3"
  },
  "language_info": {
   "codemirror_mode": {
    "name": "ipython",
    "version": 3
   },
   "file_extension": ".py",
   "mimetype": "text/x-python",
   "name": "python",
   "nbconvert_exporter": "python",
   "pygments_lexer": "ipython3",
   "version": "3.8.5"
  },
  "orig_nbformat": 4,
  "vscode": {
   "interpreter": {
    "hash": "11076a8a82d231440a7bbf549a29a861e6ccff872848f844b9bfc4c9e099faad"
   }
  }
 },
 "nbformat": 4,
 "nbformat_minor": 2
}
